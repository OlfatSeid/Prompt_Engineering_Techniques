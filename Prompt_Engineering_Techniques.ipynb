{
  "nbformat": 4,
  "nbformat_minor": 0,
  "metadata": {
    "colab": {
      "provenance": []
    },
    "kernelspec": {
      "name": "python3",
      "display_name": "Python 3"
    },
    "language_info": {
      "name": "python"
    }
  },
  "cells": [
    {
      "cell_type": "code",
      "source": [
        "!pip install datasets"
      ],
      "metadata": {
        "colab": {
          "base_uri": "https://localhost:8080/"
        },
        "collapsed": true,
        "id": "Fg-G8D9aFCFM",
        "outputId": "d380264a-d99b-4361-9d12-45afc4720f87"
      },
      "execution_count": 1,
      "outputs": [
        {
          "output_type": "stream",
          "name": "stdout",
          "text": [
            "Requirement already satisfied: datasets in /usr/local/lib/python3.10/dist-packages (3.0.1)\n",
            "Requirement already satisfied: filelock in /usr/local/lib/python3.10/dist-packages (from datasets) (3.16.1)\n",
            "Requirement already satisfied: numpy>=1.17 in /usr/local/lib/python3.10/dist-packages (from datasets) (1.26.4)\n",
            "Requirement already satisfied: pyarrow>=15.0.0 in /usr/local/lib/python3.10/dist-packages (from datasets) (16.1.0)\n",
            "Requirement already satisfied: dill<0.3.9,>=0.3.0 in /usr/local/lib/python3.10/dist-packages (from datasets) (0.3.8)\n",
            "Requirement already satisfied: pandas in /usr/local/lib/python3.10/dist-packages (from datasets) (2.2.2)\n",
            "Requirement already satisfied: requests>=2.32.2 in /usr/local/lib/python3.10/dist-packages (from datasets) (2.32.3)\n",
            "Requirement already satisfied: tqdm>=4.66.3 in /usr/local/lib/python3.10/dist-packages (from datasets) (4.66.5)\n",
            "Requirement already satisfied: xxhash in /usr/local/lib/python3.10/dist-packages (from datasets) (3.5.0)\n",
            "Requirement already satisfied: multiprocess in /usr/local/lib/python3.10/dist-packages (from datasets) (0.70.16)\n",
            "Requirement already satisfied: fsspec<=2024.6.1,>=2023.1.0 in /usr/local/lib/python3.10/dist-packages (from fsspec[http]<=2024.6.1,>=2023.1.0->datasets) (2024.6.1)\n",
            "Requirement already satisfied: aiohttp in /usr/local/lib/python3.10/dist-packages (from datasets) (3.10.9)\n",
            "Requirement already satisfied: huggingface-hub>=0.22.0 in /usr/local/lib/python3.10/dist-packages (from datasets) (0.24.7)\n",
            "Requirement already satisfied: packaging in /usr/local/lib/python3.10/dist-packages (from datasets) (24.1)\n",
            "Requirement already satisfied: pyyaml>=5.1 in /usr/local/lib/python3.10/dist-packages (from datasets) (6.0.2)\n",
            "Requirement already satisfied: aiohappyeyeballs>=2.3.0 in /usr/local/lib/python3.10/dist-packages (from aiohttp->datasets) (2.4.3)\n",
            "Requirement already satisfied: aiosignal>=1.1.2 in /usr/local/lib/python3.10/dist-packages (from aiohttp->datasets) (1.3.1)\n",
            "Requirement already satisfied: attrs>=17.3.0 in /usr/local/lib/python3.10/dist-packages (from aiohttp->datasets) (24.2.0)\n",
            "Requirement already satisfied: frozenlist>=1.1.1 in /usr/local/lib/python3.10/dist-packages (from aiohttp->datasets) (1.4.1)\n",
            "Requirement already satisfied: multidict<7.0,>=4.5 in /usr/local/lib/python3.10/dist-packages (from aiohttp->datasets) (6.1.0)\n",
            "Requirement already satisfied: yarl<2.0,>=1.12.0 in /usr/local/lib/python3.10/dist-packages (from aiohttp->datasets) (1.13.1)\n",
            "Requirement already satisfied: async-timeout<5.0,>=4.0 in /usr/local/lib/python3.10/dist-packages (from aiohttp->datasets) (4.0.3)\n",
            "Requirement already satisfied: typing-extensions>=3.7.4.3 in /usr/local/lib/python3.10/dist-packages (from huggingface-hub>=0.22.0->datasets) (4.12.2)\n",
            "Requirement already satisfied: charset-normalizer<4,>=2 in /usr/local/lib/python3.10/dist-packages (from requests>=2.32.2->datasets) (3.3.2)\n",
            "Requirement already satisfied: idna<4,>=2.5 in /usr/local/lib/python3.10/dist-packages (from requests>=2.32.2->datasets) (3.10)\n",
            "Requirement already satisfied: urllib3<3,>=1.21.1 in /usr/local/lib/python3.10/dist-packages (from requests>=2.32.2->datasets) (2.2.3)\n",
            "Requirement already satisfied: certifi>=2017.4.17 in /usr/local/lib/python3.10/dist-packages (from requests>=2.32.2->datasets) (2024.8.30)\n",
            "Requirement already satisfied: python-dateutil>=2.8.2 in /usr/local/lib/python3.10/dist-packages (from pandas->datasets) (2.8.2)\n",
            "Requirement already satisfied: pytz>=2020.1 in /usr/local/lib/python3.10/dist-packages (from pandas->datasets) (2024.2)\n",
            "Requirement already satisfied: tzdata>=2022.7 in /usr/local/lib/python3.10/dist-packages (from pandas->datasets) (2024.2)\n",
            "Requirement already satisfied: six>=1.5 in /usr/local/lib/python3.10/dist-packages (from python-dateutil>=2.8.2->pandas->datasets) (1.16.0)\n"
          ]
        }
      ]
    },
    {
      "cell_type": "code",
      "source": [
        "import numpy as np\n",
        "import pandas as pd\n",
        "import seaborn as sns\n",
        "import torch\n",
        "from datasets import Dataset, load_dataset\n",
        "from transformers import (\n",
        "    AutoModelForCausalLM,\n",
        "    AutoModelForSeq2SeqLM,\n",
        "    AutoTokenizer,\n",
        "    BitsAndBytesConfig,\n",
        "    pipeline,\n",
        ")"
      ],
      "metadata": {
        "id": "vNBZ3ccDCIlF"
      },
      "execution_count": 2,
      "outputs": []
    },
    {
      "cell_type": "code",
      "source": [
        "!huggingface-cli login\n"
      ],
      "metadata": {
        "colab": {
          "base_uri": "https://localhost:8080/"
        },
        "id": "uNK_MkNC2a0P",
        "outputId": "101d8532-ce8f-4261-8b83-a0d0be94447f"
      },
      "execution_count": 7,
      "outputs": [
        {
          "output_type": "stream",
          "name": "stdout",
          "text": [
            "\n",
            "    _|    _|  _|    _|    _|_|_|    _|_|_|  _|_|_|  _|      _|    _|_|_|      _|_|_|_|    _|_|      _|_|_|  _|_|_|_|\n",
            "    _|    _|  _|    _|  _|        _|          _|    _|_|    _|  _|            _|        _|    _|  _|        _|\n",
            "    _|_|_|_|  _|    _|  _|  _|_|  _|  _|_|    _|    _|  _|  _|  _|  _|_|      _|_|_|    _|_|_|_|  _|        _|_|_|\n",
            "    _|    _|  _|    _|  _|    _|  _|    _|    _|    _|    _|_|  _|    _|      _|        _|    _|  _|        _|\n",
            "    _|    _|    _|_|      _|_|_|    _|_|_|  _|_|_|  _|      _|    _|_|_|      _|        _|    _|    _|_|_|  _|_|_|_|\n",
            "\n",
            "    To login, `huggingface_hub` requires a token generated from https://huggingface.co/settings/tokens .\n",
            "Enter your token (input will not be visible): \n",
            "Add token as git credential? (Y/n) y\n",
            "Token is valid (permission: write).\n",
            "\u001b[1m\u001b[31mCannot authenticate through git-credential as no helper is defined on your machine.\n",
            "You might have to re-authenticate when pushing to the Hugging Face Hub.\n",
            "Run the following command in your terminal in case you want to set the 'store' credential helper as default.\n",
            "\n",
            "git config --global credential.helper store\n",
            "\n",
            "Read https://git-scm.com/book/en/v2/Git-Tools-Credential-Storage for more details.\u001b[0m\n",
            "Token has not been saved to git credential helper.\n",
            "Your token has been saved to /root/.cache/huggingface/token\n",
            "Login successful\n"
          ]
        }
      ]
    },
    {
      "cell_type": "markdown",
      "source": [
        " Load the model and tokenizer"
      ],
      "metadata": {
        "id": "35iHXrJ0jDSD"
      }
    },
    {
      "cell_type": "code",
      "source": [
        "model_name = \"google/flan-t5-large\"\n",
        "model = AutoModelForSeq2SeqLM.from_pretrained(model_name)\n",
        "tokenizer = AutoTokenizer.from_pretrained(model_name)"
      ],
      "metadata": {
        "colab": {
          "base_uri": "https://localhost:8080/"
        },
        "id": "A8RxLUEJpuFO",
        "outputId": "14777751-1230-4aec-d5c0-a92a89a1ce7d"
      },
      "execution_count": 3,
      "outputs": [
        {
          "output_type": "stream",
          "name": "stderr",
          "text": [
            "/usr/local/lib/python3.10/dist-packages/huggingface_hub/utils/_token.py:89: UserWarning: \n",
            "The secret `HF_TOKEN` does not exist in your Colab secrets.\n",
            "To authenticate with the Hugging Face Hub, create a token in your settings tab (https://huggingface.co/settings/tokens), set it as secret in your Google Colab and restart your session.\n",
            "You will be able to reuse this secret in all of your notebooks.\n",
            "Please note that authentication is recommended but still optional to access public models or datasets.\n",
            "  warnings.warn(\n",
            "/usr/local/lib/python3.10/dist-packages/transformers/tokenization_utils_base.py:1601: FutureWarning: `clean_up_tokenization_spaces` was not set. It will be set to `True` by default. This behavior will be depracted in transformers v4.45, and will be then set to `False` by default. For more details check this issue: https://github.com/huggingface/transformers/issues/31884\n",
            "  warnings.warn(\n"
          ]
        }
      ]
    },
    {
      "cell_type": "code",
      "source": [
        "def get_response(messages):\n",
        "\n",
        "    inputs = tokenizer.encode(user_prompt, return_tensors=\"pt\")\n",
        "\n",
        "    outputs = model.generate(inputs, max_length=300, num_return_sequences=1)\n",
        "    generated_answer = tokenizer.decode(outputs[0], skip_special_tokens=True)\n",
        "\n",
        "    return generated_answer\n",
        "\n"
      ],
      "metadata": {
        "id": "oCMknHkGi5_h"
      },
      "execution_count": 4,
      "outputs": []
    },
    {
      "cell_type": "markdown",
      "source": [
        "### Load the dataset"
      ],
      "metadata": {
        "id": "a2ohVU8Ks2wU"
      }
    },
    {
      "cell_type": "code",
      "source": [
        "dataset=load_dataset(\"bigbio/med_qa\")"
      ],
      "metadata": {
        "id": "2rtBbm2ScE56"
      },
      "execution_count": 5,
      "outputs": []
    },
    {
      "cell_type": "code",
      "source": [
        "dataset[\"train\"][:5]\n"
      ],
      "metadata": {
        "colab": {
          "base_uri": "https://localhost:8080/"
        },
        "id": "E110SK7DcCGy",
        "outputId": "e64dbe9d-5084-4642-ad38-0dce67f27c10"
      },
      "execution_count": 7,
      "outputs": [
        {
          "output_type": "execute_result",
          "data": {
            "text/plain": [
              "{'meta_info': ['step2&3', 'step2&3', 'step1', 'step1', 'step1'],\n",
              " 'question': ['A 23-year-old pregnant woman at 22 weeks gestation presents with burning upon urination. She states it started 1 day ago and has been worsening despite drinking more water and taking cranberry extract. She otherwise feels well and is followed by a doctor for her pregnancy. Her temperature is 97.7°F (36.5°C), blood pressure is 122/77 mmHg, pulse is 80/min, respirations are 19/min, and oxygen saturation is 98% on room air. Physical exam is notable for an absence of costovertebral angle tenderness and a gravid uterus. Which of the following is the best treatment for this patient?',\n",
              "  'A 3-month-old baby died suddenly at night while asleep. His mother noticed that he had died only after she awoke in the morning. No cause of death was determined based on the autopsy. Which of the following precautions could have prevented the death of the baby?',\n",
              "  \"A mother brings her 3-week-old infant to the pediatrician's office because she is concerned about his feeding habits. He was born without complications and has not had any medical problems up until this time. However, for the past 4 days, he has been fussy, is regurgitating all of his feeds, and his vomit is yellow in color. On physical exam, the child's abdomen is minimally distended but no other abnormalities are appreciated. Which of the following embryologic errors could account for this presentation?\",\n",
              "  'A pulmonary autopsy specimen from a 58-year-old woman who died of acute hypoxic respiratory failure was examined. She had recently undergone surgery for a fractured femur 3 months ago. Initial hospital course was uncomplicated, and she was discharged to a rehab facility in good health. Shortly after discharge home from rehab, she developed sudden shortness of breath and had cardiac arrest. Resuscitation was unsuccessful. On histological examination of lung tissue, fibrous connective tissue around the lumen of the pulmonary artery is observed. Which of the following is the most likely pathogenesis for the present findings?',\n",
              "  \"A 20-year-old woman presents with menorrhagia for the past several years. She says that her menses “have always been heavy”, and she has experienced easy bruising for as long as she can remember. Family history is significant for her mother, who had similar problems with bruising easily. The patient's vital signs include: heart rate 98/min, respiratory rate 14/min, temperature 36.1°C (96.9°F), and blood pressure 110/87 mm Hg. Physical examination is unremarkable. Laboratory tests show the following: platelet count 200,000/mm3, PT 12 seconds, and PTT 43 seconds. Which of the following is the most likely cause of this patient’s symptoms?\"],\n",
              " 'answer_idx': ['E', 'A', 'A', 'A', 'E'],\n",
              " 'answer': ['Nitrofurantoin',\n",
              "  'Placing the infant in a supine position on a firm mattress while sleeping',\n",
              "  'Abnormal migration of ventral pancreatic bud',\n",
              "  'Thromboembolism',\n",
              "  'Von Willebrand disease'],\n",
              " 'options': [[{'key': 'A', 'value': 'Ampicillin'},\n",
              "   {'key': 'B', 'value': 'Ceftriaxone'},\n",
              "   {'key': 'C', 'value': 'Ciprofloxacin'},\n",
              "   {'key': 'D', 'value': 'Doxycycline'},\n",
              "   {'key': 'E', 'value': 'Nitrofurantoin'}],\n",
              "  [{'key': 'A',\n",
              "    'value': 'Placing the infant in a supine position on a firm mattress while sleeping'},\n",
              "   {'key': 'B', 'value': 'Routine postnatal electrocardiogram (ECG)'},\n",
              "   {'key': 'C',\n",
              "    'value': 'Keeping the infant covered and maintaining a high room temperature'},\n",
              "   {'key': 'D',\n",
              "    'value': 'Application of a device to maintain the sleeping position'},\n",
              "   {'key': 'E', 'value': 'Avoiding pacifier use during sleep'}],\n",
              "  [{'key': 'A', 'value': 'Abnormal migration of ventral pancreatic bud'},\n",
              "   {'key': 'B',\n",
              "    'value': 'Complete failure of proximal duodenum to recanalize'},\n",
              "   {'key': 'C', 'value': 'Error in neural crest cell migration'},\n",
              "   {'key': 'D', 'value': 'Abnormal hypertrophy of the pylorus'},\n",
              "   {'key': 'E',\n",
              "    'value': 'Failure of lateral body folds to move ventrally and fuse in the midline'}],\n",
              "  [{'key': 'A', 'value': 'Thromboembolism'},\n",
              "   {'key': 'B', 'value': 'Pulmonary ischemia'},\n",
              "   {'key': 'C', 'value': 'Pulmonary hypertension'},\n",
              "   {'key': 'D', 'value': 'Pulmonary passive congestion'},\n",
              "   {'key': 'E', 'value': 'Pulmonary hemorrhage'}],\n",
              "  [{'key': 'A', 'value': 'Factor V Leiden'},\n",
              "   {'key': 'B', 'value': 'Hemophilia A'},\n",
              "   {'key': 'C', 'value': 'Lupus anticoagulant'},\n",
              "   {'key': 'D', 'value': 'Protein C deficiency'},\n",
              "   {'key': 'E', 'value': 'Von Willebrand disease'}]]}"
            ]
          },
          "metadata": {},
          "execution_count": 7
        }
      ]
    },
    {
      "cell_type": "code",
      "source": [
        "dataset"
      ],
      "metadata": {
        "colab": {
          "base_uri": "https://localhost:8080/"
        },
        "outputId": "f75223f8-8818-4216-9a4a-ae1b479c81bb",
        "id": "SXUWwZEDytJi"
      },
      "execution_count": 8,
      "outputs": [
        {
          "output_type": "execute_result",
          "data": {
            "text/plain": [
              "DatasetDict({\n",
              "    train: Dataset({\n",
              "        features: ['meta_info', 'question', 'answer_idx', 'answer', 'options'],\n",
              "        num_rows: 10178\n",
              "    })\n",
              "    test: Dataset({\n",
              "        features: ['meta_info', 'question', 'answer_idx', 'answer', 'options'],\n",
              "        num_rows: 1273\n",
              "    })\n",
              "    validation: Dataset({\n",
              "        features: ['meta_info', 'question', 'answer_idx', 'answer', 'options'],\n",
              "        num_rows: 1272\n",
              "    })\n",
              "})"
            ]
          },
          "metadata": {},
          "execution_count": 8
        }
      ]
    },
    {
      "cell_type": "code",
      "source": [
        "first_question=''' Which of the following is a risk factor for heart disease?\n",
        "A) High blood pressure\n",
        "B) Low cholesterol\n",
        "C) Low body mass index\n",
        "D) Moderate exercise\n",
        "'''"
      ],
      "metadata": {
        "id": "sOgjVU442qFI"
      },
      "execution_count": 9,
      "outputs": []
    },
    {
      "cell_type": "code",
      "source": [
        "first_question_answer='(A) High blood pressure'"
      ],
      "metadata": {
        "id": "hxvWmKgdQeTI"
      },
      "execution_count": 10,
      "outputs": []
    },
    {
      "cell_type": "code",
      "source": [
        "second_question=''' What is the primary cause of type 1 diabetes?\n",
        "A) Excess sugar intake\n",
        "B) Autoimmune destruction of insulin-producing cells\n",
        "C) Lack of physical exercise\n",
        "D) High fat diet\n",
        "'''"
      ],
      "metadata": {
        "id": "bZsG3N_KQta7"
      },
      "execution_count": 11,
      "outputs": []
    },
    {
      "cell_type": "code",
      "source": [
        "second_question_answer='B) Autoimmune destruction of insulin-producing cells'"
      ],
      "metadata": {
        "id": "x5zj119LRZc3"
      },
      "execution_count": 12,
      "outputs": []
    },
    {
      "cell_type": "code",
      "source": [
        "third_question='''Which vitamin is primarily responsible for calcium absorption in the body?\n",
        "A) Vitamin C\n",
        "B) Vitamin A\n",
        "C) Vitamin D\n",
        "D) Vitamin K\n",
        "'''"
      ],
      "metadata": {
        "id": "WQl-yrwrRi-S"
      },
      "execution_count": 13,
      "outputs": []
    },
    {
      "cell_type": "code",
      "source": [
        "third_question_answer='C) Vitamin D'"
      ],
      "metadata": {
        "id": "KrfoKATxSBNI"
      },
      "execution_count": 14,
      "outputs": []
    },
    {
      "cell_type": "code",
      "source": [
        "fourth_question='''What is the first-line treatment for hypertension in a patient with chronic kidney disease?\n",
        "A) Beta-blockers\n",
        "B) Calcium channel blockers\n",
        "C) ACE inhibitors\n",
        "D) Diuretics\n",
        "'''\n"
      ],
      "metadata": {
        "id": "1HQBTxDYSRbl"
      },
      "execution_count": 15,
      "outputs": []
    },
    {
      "cell_type": "markdown",
      "source": [
        "## Define the System Role"
      ],
      "metadata": {
        "id": "wouBSXE1S3Y6"
      }
    },
    {
      "cell_type": "code",
      "source": [
        "system_role='You are a helpful assistant that answers multiple choice  questions about medical knowledge'"
      ],
      "metadata": {
        "id": "WnKEzsFYS65j"
      },
      "execution_count": 16,
      "outputs": []
    },
    {
      "cell_type": "markdown",
      "source": [
        "##   Few-Shot Prompting"
      ],
      "metadata": {
        "id": "M0wiLSXacppY"
      }
    },
    {
      "cell_type": "code",
      "source": [
        "user_prompt=f'''Question:{first_question}\n",
        "Answer:{first_question_answer}\n",
        "\n",
        "Question:{second_question}\n",
        "Answer:{second_question_answer}\n",
        "\n",
        "Question:{third_question}\n",
        "Answer:{third_question_answer}\n",
        "\n",
        "Question:{fourth_question}\n",
        "Answer:\n",
        "'''"
      ],
      "metadata": {
        "id": "UiXhiAN39KMg"
      },
      "execution_count": 17,
      "outputs": []
    },
    {
      "cell_type": "code",
      "source": [
        "messages=[{'role':'system','content':system_role},\n",
        "          {'role':'user','content':user_prompt}\n",
        "         ]"
      ],
      "metadata": {
        "id": "CImrHYOn9J7-"
      },
      "execution_count": 18,
      "outputs": []
    },
    {
      "cell_type": "code",
      "source": [
        "print(f'The answer is :{get_response(messages)}')"
      ],
      "metadata": {
        "colab": {
          "base_uri": "https://localhost:8080/"
        },
        "id": "9U_YKZnYAmYb",
        "outputId": "d1b56a8e-f1da-425a-9be3-0e44991ae800",
        "collapsed": true
      },
      "execution_count": 19,
      "outputs": [
        {
          "output_type": "stream",
          "name": "stdout",
          "text": [
            "The answer is :C\n"
          ]
        }
      ]
    },
    {
      "cell_type": "markdown",
      "source": [
        "\n",
        "##                One Shot Prompting"
      ],
      "metadata": {
        "id": "PCTsgZ--B-dm"
      }
    },
    {
      "cell_type": "code",
      "source": [
        "user_prompt=f'''Question:{first_question}\n",
        "Answer:{first_question_answer}\n",
        "\n",
        "Question:{fourth_question}\n",
        "Answer:\n",
        "'''"
      ],
      "metadata": {
        "id": "kn7STiABB-AO"
      },
      "execution_count": 20,
      "outputs": []
    },
    {
      "cell_type": "code",
      "source": [
        "messages=[{'role':'system','content':system_role},\n",
        "          {'role':'user','content':user_prompt}\n",
        "         ]"
      ],
      "metadata": {
        "id": "ve7esOOmCetk"
      },
      "execution_count": 21,
      "outputs": []
    },
    {
      "cell_type": "code",
      "source": [
        "print(f'The answer is :{get_response(messages)}')\n"
      ],
      "metadata": {
        "colab": {
          "base_uri": "https://localhost:8080/"
        },
        "id": "Q0URstf7ChvD",
        "outputId": "fcf6b715-100f-4695-8d0f-0d5ff928bc89"
      },
      "execution_count": 22,
      "outputs": [
        {
          "output_type": "stream",
          "name": "stdout",
          "text": [
            "The answer is :C\n"
          ]
        }
      ]
    },
    {
      "cell_type": "markdown",
      "source": [
        "## Zero Shot Prompting"
      ],
      "metadata": {
        "id": "9NO0ETd5ClT1"
      }
    },
    {
      "cell_type": "code",
      "source": [
        "user_prompt=f'''Question:{fourth_question}\n",
        "Answer:\n",
        "'''"
      ],
      "metadata": {
        "id": "bgKgxLaGDORr"
      },
      "execution_count": 23,
      "outputs": []
    },
    {
      "cell_type": "code",
      "source": [
        "messages=[{'role':'system','content':system_role},\n",
        "          {'role':'user','content':user_prompt}\n",
        "         ]"
      ],
      "metadata": {
        "id": "0MprmTzZDNMz"
      },
      "execution_count": 24,
      "outputs": []
    },
    {
      "cell_type": "code",
      "source": [
        "print(f'The answer is :{get_response(messages)}')"
      ],
      "metadata": {
        "colab": {
          "base_uri": "https://localhost:8080/"
        },
        "id": "HC9R1jN0CuGE",
        "outputId": "cb8d5987-5dd1-4daf-9c22-e83a8fd91cd2"
      },
      "execution_count": 25,
      "outputs": [
        {
          "output_type": "stream",
          "name": "stdout",
          "text": [
            "The answer is :C\n"
          ]
        }
      ]
    }
  ]
}