{
  "nbformat": 4,
  "nbformat_minor": 0,
  "metadata": {
    "colab": {
      "provenance": []
    },
    "kernelspec": {
      "name": "python3",
      "display_name": "Python 3"
    },
    "language_info": {
      "name": "python"
    }
  },
  "cells": [
    {
      "cell_type": "code",
      "source": [
        "!pip install -qU langchain_groq"
      ],
      "metadata": {
        "collapsed": true,
        "id": "LZ0IlMfHnesk"
      },
      "execution_count": 1,
      "outputs": []
    },
    {
      "cell_type": "code",
      "execution_count": 2,
      "metadata": {
        "id": "g37KC05keIVt"
      },
      "outputs": [],
      "source": [
        "from langchain.prompts.prompt import PromptTemplate\n",
        "from langchain.prompts.few_shot import FewShotPromptTemplate\n",
        "from langchain.schema import HumanMessage\n",
        "from langchain_groq import ChatGroq\n",
        "from google.colab import userdata"
      ]
    },
    {
      "cell_type": "code",
      "source": [
        "groq_api_key=userdata.get('groq_api_key')"
      ],
      "metadata": {
        "id": "hh9BvphqlzH9"
      },
      "execution_count": 3,
      "outputs": []
    },
    {
      "cell_type": "code",
      "source": [
        "llm=ChatGroq(groq_api_key=groq_api_key,model_name=\"Gemma2-9b-It\")\n",
        "llm"
      ],
      "metadata": {
        "colab": {
          "base_uri": "https://localhost:8080/"
        },
        "id": "w_9aCKjPmBVp",
        "outputId": "9021f327-02c6-4e5d-d415-967449e7b800"
      },
      "execution_count": 4,
      "outputs": [
        {
          "output_type": "execute_result",
          "data": {
            "text/plain": [
              "ChatGroq(client=<groq.resources.chat.completions.Completions object at 0x7e50d1c06550>, async_client=<groq.resources.chat.completions.AsyncCompletions object at 0x7e50d1e66650>, model_name='Gemma2-9b-It', model_kwargs={}, groq_api_key=SecretStr('**********'))"
            ]
          },
          "metadata": {},
          "execution_count": 4
        }
      ]
    },
    {
      "cell_type": "code",
      "source": [
        "riddle_1 = \"\"\"\n",
        "A train leaves a station traveling at 60 km/h. One hour later, another train leaves the same station traveling in the same direction at 90 km/h.\n",
        " How long will it take for the second train to catch up to the first train?\n",
        "\"\"\"\n",
        "\n",
        "messages = [HumanMessage(content=riddle_1)]\n",
        "response = llm(messages)\n",
        "\n",
        "print(response.content)"
      ],
      "metadata": {
        "colab": {
          "base_uri": "https://localhost:8080/"
        },
        "id": "h9kpQWJMhSnf",
        "outputId": "0d421185-eb83-42f9-d998-df8fe667f9cd"
      },
      "execution_count": 5,
      "outputs": [
        {
          "output_type": "stream",
          "name": "stderr",
          "text": [
            "<ipython-input-5-ecafa4910a2e>:7: LangChainDeprecationWarning: The method `BaseChatModel.__call__` was deprecated in langchain-core 0.1.7 and will be removed in 1.0. Use :meth:`~invoke` instead.\n",
            "  response = llm(messages)\n"
          ]
        },
        {
          "output_type": "stream",
          "name": "stdout",
          "text": [
            "Here's how to solve this problem:\n",
            "\n",
            "**1. Understand the Head Start**\n",
            "\n",
            "The first train has a one-hour head start. In that hour, it travels 60 km (60 km/h * 1 h).\n",
            "\n",
            "**2.  Determine the Relative Speed**\n",
            "\n",
            "The second train is faster than the first train by 30 km/h (90 km/h - 60 km/h).  This means it closes the distance between them at a rate of 30 km per hour.\n",
            "\n",
            "**3. Calculate the Time to Catch Up**\n",
            "\n",
            "To catch up to the 60 km head start, the second train needs to travel for 2 hours (60 km / 30 km/h).\n",
            "\n",
            "\n",
            "**Answer:** It will take the second train **2 hours** to catch up to the first train. \n",
            "\n"
          ]
        }
      ]
    },
    {
      "cell_type": "code",
      "source": [
        "riddle_2=\"A farmer has chickens and cows. There are 20 heads and 56 legs in total. How many chickens and cows does the farmer have?\".strip()\n",
        "messages = [HumanMessage(content=riddle_2)]\n",
        "response = llm(messages)\n",
        "\n",
        "print(response.content)"
      ],
      "metadata": {
        "colab": {
          "base_uri": "https://localhost:8080/"
        },
        "id": "5HzSva_JmbPZ",
        "outputId": "d7b72685-2c82-4037-ed96-011a60cb8f13"
      },
      "execution_count": 6,
      "outputs": [
        {
          "output_type": "stream",
          "name": "stdout",
          "text": [
            "Here's how to solve this classic problem:\n",
            "\n",
            "**Let:**\n",
            "\n",
            "*  *c* = the number of chickens\n",
            "*  *w* = the number of cows\n",
            "\n",
            "**Set up the equations:**\n",
            "\n",
            "* **Heads:** Each animal has one head, so c + w = 20 \n",
            "* **Legs:** Chickens have 2 legs, and cows have 4 legs, so 2c + 4w = 56\n",
            "\n",
            "**Solve for *c* and *w*:**\n",
            "\n",
            "One way to solve this is using substitution:\n",
            "\n",
            "1. **Solve the first equation for *c*:**  c = 20 - w\n",
            "\n",
            "2. **Substitute this value of *c* into the second equation:** 2(20 - w) + 4w = 56\n",
            "\n",
            "3. **Simplify and solve for *w*:** 40 - 2w + 4w = 56  \n",
            "                                        2w = 16\n",
            "                                        w = 8\n",
            "\n",
            "4. **Substitute the value of *w* back into either original equation to solve for *c*:** c + 8 = 20\n",
            "                                                                                               c = 12\n",
            "\n",
            "\n",
            "**Answer:** The farmer has 12 chickens and 8 cows. \n",
            "\n"
          ]
        }
      ]
    },
    {
      "cell_type": "code",
      "source": [
        "riddle_3 = \"\"\"\n",
        "When I was seven, my sister was twice my age. Now I am seventy years old, how old can my sister be?\n",
        "\"\"\"\n",
        "messages = [HumanMessage(content=riddle_3)]\n",
        "response = llm(messages)\n",
        "\n",
        "print(response.content)"
      ],
      "metadata": {
        "colab": {
          "base_uri": "https://localhost:8080/"
        },
        "id": "QFgb4LK5nSc_",
        "outputId": "9009acc3-e047-4edb-e4e8-6d69f8be03ad"
      },
      "execution_count": 7,
      "outputs": [
        {
          "output_type": "stream",
          "name": "stdout",
          "text": [
            "Here's how to solve this:\n",
            "\n",
            "* **When you were 7, your sister was 14** (twice your age). \n",
            "* **The age difference between you and your sister is 7 years** (14 - 7 = 7).\n",
            "* **Since your sister is always 7 years older, she is now 77 years old.** (70 + 7 = 77) \n",
            "\n",
            "\n",
            "Let me know if you'd like to try another age problem! \n",
            "\n"
          ]
        }
      ]
    },
    {
      "cell_type": "code",
      "source": [
        "riddle_4=\"A clock shows the time as 3:15. What is the angle between the hour hand and the minute hand?\"\n",
        "messages = [HumanMessage(content=riddle_4)]\n",
        "response = llm(messages)\n",
        "\n",
        "print(response.content)"
      ],
      "metadata": {
        "colab": {
          "base_uri": "https://localhost:8080/"
        },
        "id": "YFP7Rug5rGYE",
        "outputId": "93aef86b-3983-406c-c5b5-4b353f89bab4"
      },
      "execution_count": 8,
      "outputs": [
        {
          "output_type": "stream",
          "name": "stdout",
          "text": [
            "Here's how to figure out the angle:\n",
            "\n",
            "**Understanding Clock Angles**\n",
            "\n",
            "* **Full Circle:** A clock is a circle, so it has 360 degrees.\n",
            "* **Hour Hand Movement:** The hour hand moves 360 degrees in 12 hours, or 30 degrees per hour.\n",
            "* **Minute Hand Movement:** The minute hand moves 360 degrees in 60 minutes, or 6 degrees per minute.\n",
            "\n",
            "**Calculations**\n",
            "\n",
            "1. **Hour Hand Position:** At 3:15, the hour hand is a little past the 3.  Since it moves 30 degrees per hour, it's at 3 * 30 = 90 degrees. \n",
            "\n",
            "2. **Minute Hand Position:** At 15 minutes, the minute hand is at 15 * 6 = 90 degrees.\n",
            "\n",
            "3. **Angle Difference:** The hour and minute hands are both at 90 degrees, so the angle between them is 0 degrees.\n",
            "\n",
            "\n",
            "Let me know if you'd like to try another clock angle problem! \n",
            "\n"
          ]
        }
      ]
    },
    {
      "cell_type": "markdown",
      "source": [
        "**If the LLM provides an incorrect response, let's try a few examples for clarification.**"
      ],
      "metadata": {
        "id": "0gpjcmg682Yf"
      }
    },
    {
      "cell_type": "code",
      "source": [
        "examples = [\n",
        "    {\n",
        "        \"question\": \"A train leaves a station traveling at 60 km/h. One hour later, another train leaves the same station traveling in the same direction at 90 km/h. How long will it take for the second train to catch up to the first train?\",\n",
        "        \"answer\": \"\\n\".join([\n",
        "            \"We will follow up with some questions to get the answer.\",\n",
        "            \"Follow up: How far ahead is the first train when the second train starts?\",\n",
        "            \"Intermediate answer: In one hour, the first train travels 60 km.\",\n",
        "            \"Follow up: What is the relative speed between the two trains?\",\n",
        "            \"Intermediate answer: 90 km/h - 60 km/h = 30 km/h.\",\n",
        "            \"Follow up: How long will it take for the second train to cover the 60 km gap?\",\n",
        "            \"Intermediate answer: 60 km ÷ 30 km/h = 2 hours.\",\n",
        "            \"Final Answer: It will take 2 hours for the second train to catch up.\"\n",
        "        ])\n",
        "    },\n",
        "    {\n",
        "        \"question\": \"A farmer has chickens and cows. There are 20 heads and 56 legs in total. How many chickens and cows does the farmer have?\",\n",
        "        \"answer\": \"\\n\".join([\n",
        "            \"We will follow up with some questions to get the answer.\",\n",
        "            \"Follow up: How many heads are there in total?\",\n",
        "            \"Intermediate answer: 20 heads, each animal has one head.\",\n",
        "            \"Follow up: How many legs does a chicken and a cow have?\",\n",
        "            \"Intermediate answer: A chicken has 2 legs and a cow has 4 legs.\",\n",
        "            \"Follow up: How can we set up equations to solve this?\",\n",
        "            \"Intermediate answer: Let x be the number of chickens and y be the number of cows. We know: x + y = 20 (heads) and 2x + 4y = 56 (legs).\",\n",
        "            \"Follow up: Solve the equations.\",\n",
        "            \"Intermediate answer: From x + y = 20, we get y = 20 - x. Substitute into the second equation: 2x + 4(20 - x) = 56. Simplify: 2x + 80 - 4x = 56 → -2x = -24 → x = 12. So, y = 20 - 12 = 8.\",\n",
        "            \"Final Answer: The farmer has 12 chickens and 8 cows.\"\n",
        "        ])\n",
        "    }\n",
        "]\n"
      ],
      "metadata": {
        "id": "tMa9K2NbfbNO"
      },
      "execution_count": 9,
      "outputs": []
    },
    {
      "cell_type": "code",
      "source": [
        "example_prompt = PromptTemplate(input_variables=[\"question\", \"answer\"], template=\"Question: {question}\\n{answer}\")\n",
        "\n",
        "prompt = FewShotPromptTemplate(\n",
        "    examples=examples,\n",
        "    example_prompt=example_prompt,\n",
        "    suffix=\"Question: {input}\",\n",
        "    input_variables=[\"input\"]\n",
        ")\n",
        "\n",
        "\n",
        "message = HumanMessage(content=prompt.format(input=riddle_1))\n",
        "print( llm([message]) )"
      ],
      "metadata": {
        "colab": {
          "base_uri": "https://localhost:8080/"
        },
        "id": "WmSpzMrZfa-u",
        "outputId": "319f105e-6a06-4d89-90f9-a20c0c6a8a61"
      },
      "execution_count": 10,
      "outputs": [
        {
          "output_type": "stream",
          "name": "stdout",
          "text": [
            "content=\"Let's break this problem down step-by-step:\\n\\n**1. Head Start:**\\n\\n* In the first hour, the first train travels 60 km. This is the head start it has over the second train.\\n\\n**2. Relative Speed:**\\n\\n* The second train is 30 km/h faster than the first train (90 km/h - 60 km/h = 30 km/h).\\n\\n**3. Time to Catch Up:**\\n\\n* To catch up to the first train, the second train needs to cover the 60 km head start. \\n*  Time = Distance / Speed\\n* Time = 60 km / 30 km/h = 2 hours\\n\\n\\n**Therefore, it will take the second train 2 hours to catch up to the first train.** \\n\" additional_kwargs={} response_metadata={'token_usage': {'completion_tokens': 179, 'prompt_tokens': 557, 'total_tokens': 736, 'completion_time': 0.325454545, 'prompt_time': 0.030219439, 'queue_time': 0.02136557, 'total_time': 0.355673984}, 'model_name': 'Gemma2-9b-It', 'system_fingerprint': 'fp_10c08bf97d', 'finish_reason': 'stop', 'logprobs': None} id='run-e8121126-e6a0-45be-82de-9f9670de5bc1-0' usage_metadata={'input_tokens': 557, 'output_tokens': 179, 'total_tokens': 736}\n"
          ]
        }
      ]
    }
  ]
}