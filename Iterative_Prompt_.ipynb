{
  "nbformat": 4,
  "nbformat_minor": 0,
  "metadata": {
    "colab": {
      "provenance": []
    },
    "kernelspec": {
      "name": "python3",
      "display_name": "Python 3"
    },
    "language_info": {
      "name": "python"
    }
  },
  "cells": [
    {
      "cell_type": "code",
      "source": [
        "!pip install -qU langchain_community langchain_groq"
      ],
      "metadata": {
        "colab": {
          "base_uri": "https://localhost:8080/"
        },
        "id": "rSgOTeSh4BhM",
        "outputId": "acae0009-1b81-4e64-d905-165701f145de"
      },
      "execution_count": 1,
      "outputs": [
        {
          "output_type": "stream",
          "name": "stdout",
          "text": [
            "\u001b[2K   \u001b[90m━━━━━━━━━━━━━━━━━━━━━━━━━━━━━━━━━━━━━━━━\u001b[0m \u001b[32m2.5/2.5 MB\u001b[0m \u001b[31m20.2 MB/s\u001b[0m eta \u001b[36m0:00:00\u001b[0m\n",
            "\u001b[2K   \u001b[90m━━━━━━━━━━━━━━━━━━━━━━━━━━━━━━━━━━━━━━━━\u001b[0m \u001b[32m109.6/109.6 kB\u001b[0m \u001b[31m6.0 MB/s\u001b[0m eta \u001b[36m0:00:00\u001b[0m\n",
            "\u001b[2K   \u001b[90m━━━━━━━━━━━━━━━━━━━━━━━━━━━━━━━━━━━━━━━━\u001b[0m \u001b[32m50.8/50.8 kB\u001b[0m \u001b[31m3.4 MB/s\u001b[0m eta \u001b[36m0:00:00\u001b[0m\n",
            "\u001b[?25h"
          ]
        }
      ]
    },
    {
      "cell_type": "code",
      "source": [
        "from langchain_groq import ChatGroq\n",
        "from langchain.schema import HumanMessage\n",
        "from google.colab import userdata\n",
        "import os"
      ],
      "metadata": {
        "id": "G8HGkcGz4BIe"
      },
      "execution_count": 2,
      "outputs": []
    },
    {
      "cell_type": "code",
      "source": [
        "groq_api_key=userdata.get('groq_api_key')"
      ],
      "metadata": {
        "id": "h-VNE6VV4iPm"
      },
      "execution_count": 3,
      "outputs": []
    },
    {
      "cell_type": "code",
      "source": [
        "def get_completion(prompt, model=\"llama-3.1-8b-instant\", temperature=0.5, groq_api_key=None):\n",
        "    \"\"\"\n",
        "    Generate a response from the Groq model using LangChain's ChatGroq.\n",
        "\n",
        "    Args:\n",
        "        prompt (str): The input prompt.\n",
        "        model (str): Model name to use. Default: \"llama-3.1-8b-instant\".\n",
        "        temperature (float): Sampling temperature. Default: 0.5.\n",
        "        groq_api_key (str): Optional API key. Defaults to environment variable GROQ_API_KEY.\n",
        "\n",
        "    Returns:\n",
        "        str: Model's response content.\n",
        "    \"\"\"\n",
        "\n",
        "    if groq_api_key:\n",
        "        chat = ChatGroq(model=model, temperature=temperature, api_key=groq_api_key)\n",
        "    else:\n",
        "        chat = ChatGroq(model=model, temperature=temperature)\n",
        "\n",
        "    messages = [HumanMessage(content=prompt)]\n",
        "\n",
        "    response = chat(messages)\n",
        "    return response.content"
      ],
      "metadata": {
        "id": "SjCLv8BSNhTe"
      },
      "execution_count": 4,
      "outputs": []
    },
    {
      "cell_type": "code",
      "source": [
        "smartwatch_specs = \"\"\"\n",
        "OVERVIEW\n",
        "- A sleek, modern smartwatch designed for both fitness enthusiasts and professionals.\n",
        "- Comes in three color options: Midnight Black, Lunar Silver, and Forest Green.\n",
        "- High-resolution AMOLED display with Gorilla Glass protection.\n",
        "- Compatible with both iOS and Android devices.\n",
        "- Offers over 20 sports modes, including running, cycling, swimming, and yoga.\n",
        "- Built-in GPS for accurate activity tracking.\n",
        "\n",
        "FEATURES\n",
        "- Heart rate monitor, SpO2 sensor, and sleep tracking.\n",
        "- 5 ATM water resistance (up to 50 meters depth).\n",
        "- Battery life: Up to 14 days with typical use, 7 days with heavy use.\n",
        "- Includes a voice assistant and smart notifications for calls, texts, and apps.\n",
        "- Customizable watch faces and interchangeable straps.\n",
        "\n",
        "DIMENSIONS\n",
        "- Diameter: 42mm\n",
        "- Thickness: 10.5mm\n",
        "- Weight: 45g (without strap)\n",
        "\n",
        "CONNECTIVITY\n",
        "- Bluetooth 5.2, Wi-Fi, NFC for contactless payments.\n",
        "- Charges via magnetic dock; 100% charge in 1.5 hours.\n",
        "\n",
        "COUNTRY OF ORIGIN\n",
        "- Designed in Germany, manufactured in China.\n",
        "\"\"\"\n",
        "\n",
        "prompt = f\"\"\"\n",
        "You are tasked with creating a compelling product description for a retail website\n",
        "based on the technical specifications of a smartwatch.\n",
        "\n",
        "Write a concise and engaging description for potential customers, emphasizing key features,\n",
        "style, and usability. Use the technical specifications provided below as your reference.\n",
        "\n",
        "Technical specifications: ```{smartwatch_specs}```\n",
        "\"\"\"\n"
      ],
      "metadata": {
        "id": "njDdGxiONhFb"
      },
      "execution_count": 5,
      "outputs": []
    },
    {
      "cell_type": "code",
      "source": [
        "prompt = f\"\"\"\n",
        "You are tasked with creating a compelling product description for a retail website\n",
        "based on the technical specifications of a smartwatch.\n",
        "\n",
        "Write a concise and engaging description for potential customers, emphasizing key features,\n",
        "style, and usability. Use the technical specifications provided below as your reference.\n",
        "\n",
        "Technical specifications: ```{smartwatch_specs}```\n",
        "\"\"\"\n",
        "\n",
        "response = get_completion(prompt, groq_api_key=groq_api_key)\n",
        "print(response)"
      ],
      "metadata": {
        "id": "dFws_1AUNvRi",
        "colab": {
          "base_uri": "https://localhost:8080/"
        },
        "outputId": "c12d1c5f-0909-4d05-cc29-9db9319bbeaf"
      },
      "execution_count": 6,
      "outputs": [
        {
          "output_type": "stream",
          "name": "stderr",
          "text": [
            "<ipython-input-4-78bfdd609f51>:22: LangChainDeprecationWarning: The method `BaseChatModel.__call__` was deprecated in langchain-core 0.1.7 and will be removed in 1.0. Use :meth:`~invoke` instead.\n",
            "  response = chat(messages)\n"
          ]
        },
        {
          "output_type": "stream",
          "name": "stdout",
          "text": [
            "**Introducing the Ultimate Smartwatch Experience**\n",
            "\n",
            "Elevate your fitness and style with our sleek, modern smartwatch, designed for both fitness enthusiasts and professionals. Available in three sophisticated colors - Midnight Black, Lunar Silver, and Forest Green - this watch is sure to complement any outfit.\n",
            "\n",
            "**Stay Connected and Active**\n",
            "\n",
            "With a high-resolution AMOLED display protected by Gorilla Glass, you'll enjoy crisp visuals and durability. Compatible with both iOS and Android devices, this smartwatch seamlessly integrates with your daily life. Track your progress with over 20 sports modes, including running, cycling, swimming, and yoga, and rely on built-in GPS for accurate activity tracking.\n",
            "\n",
            "**Stay Healthy and Informed**\n",
            "\n",
            "Monitor your heart rate, blood oxygen levels, and sleep patterns with our advanced health features. Enjoy 5 ATM water resistance, perfect for swimming and water-based activities. Receive smart notifications for calls, texts, and apps, and control your music playback with our built-in voice assistant.\n",
            "\n",
            "**Long-Lasting Performance**\n",
            "\n",
            "Enjoy up to 14 days of typical use and 7 days of heavy use on a single charge. Our magnetic dock charges your watch in just 1.5 hours, so you can stay connected and active without interruptions.\n",
            "\n",
            "**Customize Your Style**\n",
            "\n",
            "Choose from a range of customizable watch faces and interchangeable straps to personalize your smartwatch to your taste. With a sleek 42mm diameter, 10.5mm thickness, and 45g weight, this watch is both stylish and comfortable to wear.\n",
            "\n",
            "**Experience the Best**\n",
            "\n",
            "Designed in Germany and manufactured in China, our smartwatch combines cutting-edge technology with a focus on style and usability. Upgrade your daily routine with our ultimate smartwatch experience.\n",
            "\n",
            "**Key Features:**\n",
            "\n",
            "- High-resolution AMOLED display with Gorilla Glass protection\n",
            "- Compatible with iOS and Android devices\n",
            "- Over 20 sports modes and built-in GPS\n",
            "- Heart rate monitor, SpO2 sensor, and sleep tracking\n",
            "- 5 ATM water resistance and customizable watch faces\n",
            "- Long-lasting battery life and magnetic charging dock\n",
            "- Voice assistant and smart notifications for calls, texts, and apps\n",
            "\n",
            "**Order now and experience the ultimate smartwatch experience!**\n"
          ]
        }
      ]
    },
    {
      "cell_type": "markdown",
      "source": [
        "## Refinement 1: Text Length\n",
        "- Ensure the response is concise by limiting the number of words, sentences, or characters."
      ],
      "metadata": {
        "id": "L2-JLzMEPg78"
      }
    },
    {
      "cell_type": "code",
      "source": [
        "\n",
        "prompt = f\"\"\"\n",
        "You are tasked with creating a compelling product description for a retail website\n",
        "based on the technical specifications of a smartwatch.\n",
        "\n",
        "Write a concise and engaging description for potential customers, emphasizing key features,\n",
        "style, and usability. Use the technical specifications provided below as your reference.\n",
        "\n",
        "Use at most 50 words.\n",
        "\n",
        "Technical specifications: ```{smartwatch_specs}```\n",
        "\"\"\"\n",
        "\n",
        "response = get_completion(prompt, groq_api_key=groq_api_key)\n",
        "print(response)"
      ],
      "metadata": {
        "colab": {
          "base_uri": "https://localhost:8080/"
        },
        "id": "zzAEBtfZPk10",
        "outputId": "28dd41ea-3c5c-4410-c0da-08c4f5d37466"
      },
      "execution_count": 7,
      "outputs": [
        {
          "output_type": "stream",
          "name": "stdout",
          "text": [
            "\"Experience style and functionality with our sleek smartwatch, designed for the modern you. Choose from Midnight Black, Lunar Silver, or Forest Green. Track fitness goals, receive smart notifications, and control your music with a high-resolution display and up to 14-day battery life.\"\n"
          ]
        }
      ]
    },
    {
      "cell_type": "code",
      "source": [
        "len(response.split())"
      ],
      "metadata": {
        "colab": {
          "base_uri": "https://localhost:8080/"
        },
        "id": "RM7dSBE5PkPO",
        "outputId": "4b7186c8-ed23-4a0f-a615-ef4fe425e063"
      },
      "execution_count": 8,
      "outputs": [
        {
          "output_type": "execute_result",
          "data": {
            "text/plain": [
              "42"
            ]
          },
          "metadata": {},
          "execution_count": 8
        }
      ]
    },
    {
      "cell_type": "markdown",
      "source": [
        "## Refinement 2: Shift the Focus\n",
        "- The text emphasizes less relevant details. Request a revision to focus on aspects that resonate with the target audience."
      ],
      "metadata": {
        "id": "50q8RMVBQIIU"
      }
    },
    {
      "cell_type": "code",
      "source": [
        "\n",
        "prompt = f\"\"\"\n",
        "You are tasked with creating a compelling product description for a retail website\n",
        "based on the technical specifications of a smartwatch.\n",
        "\n",
        "Write a concise and engaging description for potential customers, emphasizing key features,\n",
        "style, and usability. Use the technical specifications provided below as your reference.\n",
        "\n",
        "\n",
        "Rewrite the description to emphasize the long battery life of up to 14 days.\n",
        "Highlight how it benefits users who are always on the go.\n",
        "\n",
        "Technical specifications: ```{smartwatch_specs}```\n",
        "\"\"\"\n",
        "\n",
        "response = get_completion(prompt, groq_api_key=groq_api_key)\n",
        "print(response)"
      ],
      "metadata": {
        "colab": {
          "base_uri": "https://localhost:8080/"
        },
        "id": "bflTYjlwQEPF",
        "outputId": "508433df-32c4-4d18-cedf-e2014c4b7914"
      },
      "execution_count": 9,
      "outputs": [
        {
          "output_type": "stream",
          "name": "stdout",
          "text": [
            "**Introducing the Ultimate Smartwatch for the Modern Lifestyle**\n",
            "\n",
            "Stay connected, active, and stylish with our cutting-edge smartwatch, designed to keep up with your busy life. With its sleek and modern design, this smartwatch is perfect for both fitness enthusiasts and professionals on-the-go.\n",
            "\n",
            "**Long-Lasting Battery Life: Up to 14 Days of Power**\n",
            "\n",
            "Say goodbye to daily charging and hello to a carefree lifestyle with our smartwatch's impressive battery life of up to 14 days with typical use. Whether you're commuting, traveling, or just living your daily life, our smartwatch has got you covered. Plus, with 7 days of battery life even with heavy use, you can trust that it will keep up with your active lifestyle.\n",
            "\n",
            "**Fitness and Style Combined**\n",
            "\n",
            "Our smartwatch features a high-resolution AMOLED display with Gorilla Glass protection, ensuring a crystal-clear view of your fitness stats and notifications. With over 20 sports modes, including running, cycling, swimming, and yoga, you can track your progress and reach your fitness goals. Plus, with built-in GPS and a heart rate monitor, you can rely on accurate activity tracking.\n",
            "\n",
            "**Comfort and Customization**\n",
            "\n",
            "Choose from three stylish color options - Midnight Black, Lunar Silver, and Forest Green - and customize your watch face to suit your personality. Interchangeable straps ensure a comfortable fit, while our smartwatch's 5 ATM water resistance (up to 50 meters depth) means you can wear it with confidence in and out of the water.\n",
            "\n",
            "**Connect and Control**\n",
            "\n",
            "Stay connected with our smartwatch's voice assistant and smart notifications for calls, texts, and apps. With Bluetooth 5.2, Wi-Fi, and NFC for contactless payments, you can control your smartwatch with ease. Plus, with a customizable watch face and interchangeable straps, you can personalize your smartwatch to fit your unique style.\n",
            "\n",
            "**Get Ready to Upgrade Your Lifestyle**\n",
            "\n",
            "Order now and experience the ultimate in smartwatch technology, designed to keep up with your active lifestyle. With its impressive battery life, sleek design, and advanced features, this smartwatch is the perfect companion for anyone who wants to stay connected, active, and stylish.\n"
          ]
        }
      ]
    },
    {
      "cell_type": "markdown",
      "source": [
        "## Refinement 3: Request: Add a Table of Dimensions"
      ],
      "metadata": {
        "id": "OWQdyRxYWAOs"
      }
    },
    {
      "cell_type": "code",
      "source": [
        "prompt = f\"\"\"\n",
        "You are tasked with creating a compelling product description for a retail website\n",
        "based on the technical specifications of a smartwatch.\n",
        "\n",
        "Write a concise and engaging description for potential customers, emphasizing key features,\n",
        "style, and usability. Use the technical specifications provided below as your reference.\n",
        "\n",
        "\n",
        "The description lacks a clear and organized table of dimensions.\n",
        "Extract the relevant information and present it in a structured table format for better clarity and readability\n",
        "\n",
        "Technical specifications: ```{smartwatch_specs}```\n",
        "\"\"\"\n",
        "\n",
        "response = get_completion(prompt, groq_api_key=groq_api_key)\n",
        "print(response)"
      ],
      "metadata": {
        "colab": {
          "base_uri": "https://localhost:8080/"
        },
        "id": "vQ9OLZ71WFTU",
        "outputId": "5bcfd693-d3e5-4915-8567-a752545104b2"
      },
      "execution_count": 10,
      "outputs": [
        {
          "output_type": "stream",
          "name": "stdout",
          "text": [
            "**Introducing the Ultimate Smartwatch for Fitness and Style**\n",
            "\n",
            "Elevate your fitness journey and upgrade your daily life with our sleek and modern smartwatch. Designed for both fitness enthusiasts and professionals, this cutting-edge device offers unparalleled features, style, and usability.\n",
            "\n",
            "**Key Features:**\n",
            "\n",
            "- **Accurate Activity Tracking**: Built-in GPS and over 20 sports modes, including running, cycling, swimming, and yoga, to track your progress and reach your goals.\n",
            "- **Advanced Health Monitoring**: Heart rate monitor, SpO2 sensor, and sleep tracking to keep you informed and motivated.\n",
            "- **Water Resistance**: 5 ATM water resistance (up to 50 meters depth) for worry-free use in the pool, shower, or ocean.\n",
            "- **Smart Notifications**: Receive calls, texts, and app notifications on your wrist, ensuring you stay connected without distractions.\n",
            "- **Voice Assistant**: Access your favorite voice assistant for hands-free control and information at your fingertips.\n",
            "- **Customizable Watch Faces**: Personalize your smartwatch with a wide range of watch faces and interchangeable straps to match your style.\n",
            "\n",
            "**Technical Specifications:**\n",
            "\n",
            "| **Category** | **Description** |\n",
            "| --- | --- |\n",
            "| **Display** | High-resolution AMOLED display with Gorilla Glass protection |\n",
            "| **Compatibility** | Compatible with both iOS and Android devices |\n",
            "| **Color Options** | Midnight Black, Lunar Silver, and Forest Green |\n",
            "| **Dimensions** | |\n",
            "|  | Diameter | 42mm |\n",
            "|  | Thickness | 10.5mm |\n",
            "|  | Weight | 45g (without strap) |\n",
            "| **Connectivity** | Bluetooth 5.2, Wi-Fi, NFC for contactless payments |\n",
            "| **Battery Life** | Up to 14 days with typical use, 7 days with heavy use |\n",
            "| **Charging** | Charges via magnetic dock; 100% charge in 1.5 hours |\n",
            "| **Country of Origin** | Designed in Germany, manufactured in China |\n",
            "\n",
            "**Upgrade Your Fitness and Style Today**\n",
            "\n",
            "Experience the perfect blend of form and function with our smartwatch. Order now and discover a new level of convenience, accuracy, and style in your daily life.\n"
          ]
        }
      ]
    },
    {
      "cell_type": "markdown",
      "source": [
        "## Refinement 4: Add a Call to Action"
      ],
      "metadata": {
        "id": "tqQY2IHqWdO_"
      }
    },
    {
      "cell_type": "code",
      "source": [
        "prompt = f\"\"\"\n",
        "You are tasked with creating a compelling product description for a retail website\n",
        "based on the technical specifications of a smartwatch.\n",
        "\n",
        "Write a concise and engaging description for potential customers, emphasizing key features,\n",
        "style, and usability. Use the technical specifications provided below as your reference.\n",
        "\n",
        "\n",
        "The response doesn’t include a clear next step for the reader.\n",
        "Add a call to action, such as ‘Learn more,’ ‘Buy now,’ or ‘Sign up today.\n",
        "\n",
        "Technical specifications: ```{smartwatch_specs}```\n",
        "\"\"\"\n",
        "\n",
        "response = get_completion(prompt, groq_api_key=groq_api_key)\n",
        "print(response)"
      ],
      "metadata": {
        "colab": {
          "base_uri": "https://localhost:8080/"
        },
        "id": "nLXraelJWerA",
        "outputId": "8117f6ec-ae8f-463e-c29b-02c9644d692c"
      },
      "execution_count": 11,
      "outputs": [
        {
          "output_type": "stream",
          "name": "stdout",
          "text": [
            "**Upgrade Your Fitness and Style with Our Cutting-Edge Smartwatch**\n",
            "\n",
            "Stay on top of your fitness goals and make a statement with our sleek, modern smartwatch. Designed for both fitness enthusiasts and professionals, this stylish timepiece is available in three stunning colors: Midnight Black, Lunar Silver, and Forest Green.\n",
            "\n",
            "**High-Resolution Display and Durable Design**\n",
            "\n",
            "Enjoy a crystal-clear 1.4-inch high-resolution AMOLED display, protected by Gorilla Glass for added durability. The watch's sleek design features a diameter of 42mm, a thickness of 10.5mm, and a lightweight weight of 45g, making it comfortable to wear all day.\n",
            "\n",
            "**Advanced Fitness Features**\n",
            "\n",
            "Track your activities with over 20 sports modes, including running, cycling, swimming, and yoga. Our built-in GPS ensures accurate distance tracking, while the heart rate monitor, SpO2 sensor, and sleep tracking features provide a comprehensive picture of your physical health.\n",
            "\n",
            "**Smart Notifications and Voice Assistant**\n",
            "\n",
            "Stay connected with smart notifications for calls, texts, and apps, as well as a built-in voice assistant for hands-free control. Customize your watch faces and swap out interchangeable straps to match your unique style.\n",
            "\n",
            "**Long-Lasting Battery Life and Convenient Charging**\n",
            "\n",
            "Enjoy up to 14 days of typical use or 7 days of heavy use on a single charge. Our smartwatch charges quickly via a magnetic dock, reaching 100% in just 1.5 hours.\n",
            "\n",
            "**Get Started Today**\n",
            "\n",
            "Ready to upgrade your fitness and style? Learn more about our smartwatch and discover how it can help you achieve your goals.\n"
          ]
        }
      ]
    },
    {
      "cell_type": "markdown",
      "source": [
        "## Refinement 5:Highlight Uniqueness"
      ],
      "metadata": {
        "id": "FFpDPa4VW-gh"
      }
    },
    {
      "cell_type": "code",
      "source": [
        "prompt = f\"\"\"\n",
        "You are tasked with creating a compelling product description for a retail website\n",
        "based on the technical specifications of a smartwatch.\n",
        "\n",
        "Write a concise and engaging description for potential customers, emphasizing key features,\n",
        "style, and usability. Use the technical specifications provided below as your reference.\n",
        "\n",
        "\n",
        "The text doesn’t showcase what makes this product/service unique.\n",
        " Revise it to emphasize its standout features or advantages\n",
        "\n",
        "Technical specifications: ```{smartwatch_specs}```\n",
        "\"\"\"\n",
        "\n",
        "response = get_completion(prompt, groq_api_key=groq_api_key)\n",
        "print(response)"
      ],
      "metadata": {
        "colab": {
          "base_uri": "https://localhost:8080/"
        },
        "id": "bGCQ-sohXCvg",
        "outputId": "575d8060-56dd-4deb-93d3-99ac84213efc"
      },
      "execution_count": 12,
      "outputs": [
        {
          "output_type": "stream",
          "name": "stdout",
          "text": [
            "**Introducing the Apex Smartwatch: Elevate Your Fitness and Style**\n",
            "\n",
            "Take your fitness journey to the next level with the Apex Smartwatch, designed for both fitness enthusiasts and professionals. This sleek, modern smartwatch boasts a high-resolution AMOLED display protected by Gorilla Glass, ensuring a stunning visual experience that withstands the rigors of daily wear.\n",
            "\n",
            "**Unleash Your Potential with Advanced Features**\n",
            "\n",
            "- **All-Day Health Monitoring**: Track your heart rate, SpO2 levels, and sleep patterns with ease.\n",
            "- **20+ Sports Modes**: Choose from a wide range of activities, including running, cycling, swimming, and yoga, and receive accurate tracking with built-in GPS.\n",
            "- **Smart Notifications**: Stay connected with voice assistant, smart notifications for calls, texts, and apps, and customizable watch faces to suit your style.\n",
            "- **Contactless Payments**: Seamlessly make transactions with NFC technology.\n",
            "\n",
            "**Durable and Versatile**\n",
            "\n",
            "- **Water Resistance**: Enjoy water activities with confidence, thanks to 5 ATM water resistance (up to 50 meters depth).\n",
            "- **Interchangeable Straps**: Mix and match straps to match your outfit or mood.\n",
            "- **Long-Lasting Battery**: Get up to 14 days of typical use or 7 days with heavy use, with a 100% charge in just 1.5 hours.\n",
            "\n",
            "**Designed for You**\n",
            "\n",
            "- **Comfortable Fit**: Wear the Apex Smartwatch with confidence, thanks to its sleek 42mm diameter, 10.5mm thickness, and 45g weight (without strap).\n",
            "- **Global Compatibility**: Seamlessly pair with both iOS and Android devices.\n",
            "\n",
            "**Experience the Best of German Design and Innovation**\n",
            "\n",
            "- **Designed in Germany**: Our team of experts has crafted the Apex Smartwatch with precision and passion.\n",
            "- **Manufactured in China**: Our manufacturing process ensures high-quality production and timely delivery.\n",
            "\n",
            "Upgrade your fitness and style with the Apex Smartwatch. Order now and discover a smarter, healthier you!\n"
          ]
        }
      ]
    },
    {
      "cell_type": "markdown",
      "source": [
        "## Refinement 6: Add Emotional Appeal"
      ],
      "metadata": {
        "id": "8jn2ZmKzXNKU"
      }
    },
    {
      "cell_type": "code",
      "source": [
        "prompt = f\"\"\"\n",
        "You are tasked with creating a compelling product description for a retail website\n",
        "based on the technical specifications of a smartwatch.\n",
        "\n",
        "Write a concise and engaging description for potential customers, emphasizing key features,\n",
        "style, and usability. Use the technical specifications provided below as your reference.\n",
        "\n",
        "The response is too factual and lacks emotional impact.\n",
        "Rewrite it to include emotionally compelling language that resonates with the audience\n",
        "\n",
        "Technical specifications: ```{smartwatch_specs}```\n",
        "\"\"\"\n",
        "\n",
        "response = get_completion(prompt, groq_api_key=groq_api_key)\n",
        "print(response)"
      ],
      "metadata": {
        "colab": {
          "base_uri": "https://localhost:8080/"
        },
        "id": "iUZQ9zbYXQ0X",
        "outputId": "59654c0c-0898-4220-a021-a2bfe300ad59"
      },
      "execution_count": 13,
      "outputs": [
        {
          "output_type": "stream",
          "name": "stdout",
          "text": [
            "**Unlock Your Potential with the Ultimate Smartwatch Companion**\n",
            "\n",
            "Imagine a wearable that's as sleek as it is powerful, designed to keep up with your active lifestyle and fuel your passions. Our smartwatch is more than just a time-telling device - it's a trusted companion that empowers you to reach new heights.\n",
            "\n",
            "**Elevate Your Style**\n",
            "\n",
            "Choose from three bold color options: Midnight Black, Lunar Silver, and Forest Green. Each watch face is crafted to make a statement, while our interchangeable straps ensure your look stays fresh and on-trend.\n",
            "\n",
            "**Unleash Your Inner Athlete**\n",
            "\n",
            "Track your fitness journey with over 20 sports modes, including running, cycling, swimming, and yoga. With built-in GPS, you'll get accurate distance, pace, and heart rate data to help you optimize your performance.\n",
            "\n",
            "**Stay Connected, Stay Safe**\n",
            "\n",
            "Receive smart notifications for calls, texts, and apps, so you'll never miss a beat. Plus, with a built-in voice assistant, you can access information, set reminders, and control your music playlists with ease.\n",
            "\n",
            "**Sleep Better, Live Better**\n",
            "\n",
            "Our smartwatch tracks your sleep patterns, heart rate, and SpO2 levels, providing valuable insights to help you improve your overall well-being. And with a 5 ATM water resistance rating, you can wear it with confidence in the pool, gym, or on the go.\n",
            "\n",
            "**Long-Lasting Battery Life**\n",
            "\n",
            "Enjoy up to 14 days of typical use or 7 days of heavy use, thanks to our power-efficient design. When it's time to recharge, our magnetic dock gets you back up and running in just 1.5 hours.\n",
            "\n",
            "**Upgrade Your Experience**\n",
            "\n",
            "Customize your watch face, swap out straps, and explore a world of possibilities with our intuitive interface. Whether you're a fitness enthusiast or a busy professional, our smartwatch is the perfect companion for your active lifestyle.\n",
            "\n",
            "**Join the Movement**\n",
            "\n",
            "Designed in Germany and manufactured with precision, our smartwatch is built to last. With Bluetooth 5.2, Wi-Fi, and NFC capabilities, you'll stay connected and on the go. Upgrade your life with the ultimate smartwatch companion - order yours today!\n"
          ]
        }
      ]
    }
  ]
}